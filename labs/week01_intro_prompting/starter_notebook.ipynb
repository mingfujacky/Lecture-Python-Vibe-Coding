{
 "cells": [
  {
   "cell_type": "markdown",
   "metadata": {},
   "source": ["# Week 1 - AI Prompting\n", "Paste your prompt and AI-generated code below."]
  }
 ],
 "metadata": {},
 "nbformat": 4, "nbformat_minor": 2
}