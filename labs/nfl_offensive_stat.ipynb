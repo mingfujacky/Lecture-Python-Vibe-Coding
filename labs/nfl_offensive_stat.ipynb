{
 "cells": [
  {
   "cell_type": "markdown",
   "id": "bfab1f93",
   "metadata": {},
   "source": [
    "# Read data from file and understand data set"
   ]
  },
  {
   "cell_type": "code",
   "execution_count": null,
   "id": "9f4d5633",
   "metadata": {},
   "outputs": [],
   "source": [
    "# Use pandas as analysis tool, use pathlib to handle file paths\n",
    "# Open nfl_offensive_stats.csv, and read in dataframe from the file\n",
    "import pandas as pd\n",
    "from pathlib import Path\n",
    "# Define the path to the CSV file\n",
    "file_path = Path.cwd() / '..' / 'restricted' / 'assets' / 'nfl_stats'/'nfl_offensive_stats.csv'\n",
    "# Read the CSV file into a DataFrame\n",
    "df = pd.read_csv(file_path)\n",
    "# Rename column 'position ' to 'position'\n",
    "df.rename(columns={'position ': 'position'}, inplace=True)\n",
    "# Print the first 5 rows of the DataFrame\n",
    "df.head()"
   ]
  },
  {
   "cell_type": "code",
   "execution_count": null,
   "id": "4064ae37",
   "metadata": {},
   "outputs": [],
   "source": [
    "# Get the sum of pass_yds where player is \"Aaron Rodgers\"\n",
    "sum_pass_yds = df.loc[df['player'] == 'Aaron Rodgers', 'pass_yds'].sum()\n",
    "\n",
    "# Print the sum of pass yards for Aaron Rodgers\n",
    "print(f\"Total passing yards for Aaron Rodgers: {sum_pass_yds}\")"
   ]
  },
  {
   "cell_type": "code",
   "execution_count": null,
   "id": "ae5fa177",
   "metadata": {},
   "outputs": [],
   "source": [
    "# For each player whose position is 'QB', get the sum of pass_yds for each player, order by sum of pass_yds descending\n",
    "qb_pass_yds = df[df['position'] == 'QB'].groupby('player')['pass_yds'].sum().reset_index()\n",
    "qb_pass_yds = qb_pass_yds.sort_values(by='pass_yds', ascending=False)\n",
    "# Print the top 5 players by passing yards\n",
    "print(\"Top 5 players by passing yards (QB):\")\n",
    "print(qb_pass_yds.head())"
   ]
  },
  {
   "cell_type": "code",
   "execution_count": null,
   "id": "f3b3fb2f",
   "metadata": {},
   "outputs": [],
   "source": [
    "# use pandas plot function, not use matplotlib directly\n",
    "# plot the players by their number of passing yards only for players with more than 4000 passing yards\n",
    "import matplotlib.pyplot as plt\n",
    "qb_pass_yds_filtered = qb_pass_yds[qb_pass_yds['pass_yds'] > 4000]\n",
    "qb_pass_yds_filtered.plot(kind='bar', x='player', y='pass_yds', legend=False)\n",
    "plt.title('Top QB Passing Yards (Over 4000 Yards)')\n",
    "plt.xlabel('Player')\n",
    "plt.ylabel('Passing Yards')\n",
    "plt.xticks(rotation=90)\n",
    "plt.show()"
   ]
  }
 ],
 "metadata": {
  "kernelspec": {
   "display_name": ".venv",
   "language": "python",
   "name": "python3"
  },
  "language_info": {
   "codemirror_mode": {
    "name": "ipython",
    "version": 3
   },
   "file_extension": ".py",
   "mimetype": "text/x-python",
   "name": "python",
   "nbconvert_exporter": "python",
   "pygments_lexer": "ipython3",
   "version": "3.13.1"
  }
 },
 "nbformat": 4,
 "nbformat_minor": 5
}
