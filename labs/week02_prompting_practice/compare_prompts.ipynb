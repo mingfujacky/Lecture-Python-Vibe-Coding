{
 "cells": [
  {
   "cell_type": "markdown",
   "metadata": {},
   "source": ["# Week 2 - Prompt Comparison\n", "Experiment with multiple prompts"]
  }
 ],
 "metadata": {},
 "nbformat": 4, "nbformat_minor": 2
}