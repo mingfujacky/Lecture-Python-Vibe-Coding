{
 "cells": [
  {
   "cell_type": "markdown",
   "id": "41ecc266",
   "metadata": {},
   "source": [
    "# 🧪 Lab: 判斷閏年（Leap Year）結合 AI Vibe Coding\n",
    "\n",
    "### 🎯 目標\n",
    "- 練習 Python 的條件判斷 (`if/elif/else`)\n",
    "- 學習如何與 AI 工具（如 ChatGPT）合作寫程式\n",
    "- 培養閱讀、理解與修改程式的能力\n"
   ]
  },
  {
   "cell_type": "markdown",
   "id": "7819ed99",
   "metadata": {},
   "source": [
    "## 📍 Step 1. 題目說明\n",
    "\n",
    "請撰寫一段 Python 程式，判斷輸入的年份是否為閏年。\n",
    "\n",
    "### 🔍 判斷規則\n",
    "- 如果年份可以被 4 整除但不能被 100 整除，或是可以被 400 整除，則為閏年。\n",
    "- 否則為平年。\n"
   ]
  },
  {
   "cell_type": "code",
   "execution_count": null,
   "id": "56321076",
   "metadata": {},
   "outputs": [],
   "source": [
    "# ✅ 請在這裡手動撰寫閏年判斷邏輯（請不要使用 AI 協助）\n",
    "\n",
    "# 範例輸入：請輸入年份\n",
    "year = int(input(\"請輸入西元年份：\"))\n",
    "\n",
    "# 請寫出條件判斷邏輯\n",
    "# if ...:\n",
    "#     print(\"是閏年\")\n",
    "# else:\n",
    "#     print(\"不是閏年\")\n"
   ]
  },
  {
   "cell_type": "markdown",
   "id": "a7ec5662",
   "metadata": {},
   "source": [
    "## 📍 Step 3. 與 AI 合作：Vibe Coding 練習\n",
    "\n",
    "請嘗試以下 prompt，讓 ChatGPT 幫你產生程式碼：\n",
    "\n",
    "```text\n",
    "Write a Python program to check if a given year is a leap year.\n",
    "```\n",
    "\n",
    "或更進階一點：\n",
    "\n",
    "```text\n",
    "Can you write a function `is_leap_year(year)` that returns True if the year is a leap year, otherwise False?\n",
    "```\n",
    "\n",
    "📌 請觀察 AI 的寫法與你手寫的有何不同？有學到什麼更簡潔的寫法嗎？\n"
   ]
  },
  {
   "cell_type": "code",
   "execution_count": null,
   "id": "3f392a82",
   "metadata": {},
   "outputs": [],
   "source": [
    "# 以下是 ChatGPT 可能會產生的程式碼\n",
    "\n",
    "def is_leap_year(year):\n",
    "    return (year % 4 == 0 and year % 100 != 0) or (year % 400 == 0)\n",
    "\n",
    "# 測試\n",
    "for y in [2000, 1900, 2024, 2023]:\n",
    "    print(f\"{y} 是閏年嗎？\", is_leap_year(y))\n"
   ]
  },
  {
   "cell_type": "markdown",
   "id": "16cbbcc6",
   "metadata": {},
   "source": [
    "## 📍 Step 5. 回顧與反思\n",
    "\n",
    "請思考並回答以下問題（可在 Markdown 區域作答）：\n",
    "\n",
    "1. 你一開始寫出來的邏輯和 ChatGPT 提供的有什麼不同？\n",
    "2. 你覺得 AI 在這題目上幫助你的是什麼？\n",
    "3. 若再次寫類似題目，你會用什麼方式開始？\n"
   ]
  }
 ],
 "metadata": {},
 "nbformat": 4,
 "nbformat_minor": 5
}
